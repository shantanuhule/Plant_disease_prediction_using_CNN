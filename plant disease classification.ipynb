{
 "cells": [
  {
   "cell_type": "code",
   "execution_count": 3,
   "id": "a837205c",
   "metadata": {},
   "outputs": [],
   "source": [
    "import pandas as pd\n",
    "import numpy as np\n",
    "import matplotlib.pyplot as plt\n",
    "import os\n",
    "from tqdm import tqdm\n",
    "import tensorflow as tf\n",
    "import random\n",
    "import cv2\n",
    "IMG_SIZE=32"
   ]
  },
  {
   "cell_type": "code",
   "execution_count": 4,
   "id": "3a85f399",
   "metadata": {},
   "outputs": [
    {
     "name": "stderr",
     "output_type": "stream",
     "text": [
      "100%|██████████████████████████████████████████████████████████████████████████████| 1111/1111 [00:47<00:00, 23.62it/s]\n",
      "100%|██████████████████████████████████████████████████████████████████████████████| 1272/1272 [00:50<00:00, 25.07it/s]\n",
      "100%|████████████████████████████████████████████████████████████████████████████████| 539/539 [00:18<00:00, 29.92it/s]\n",
      "100%|██████████████████████████████████████████████████████████████████████████████| 1125/1125 [00:30<00:00, 37.09it/s]\n"
     ]
    }
   ],
   "source": [
    "\n",
    "training_data=[]\n",
    "def train_data():\n",
    "  # labeling diseases\n",
    "  label_blight=[1.0,0.0,0.0,0.0]  #Blight\n",
    "  label_cr=[0.0,1.0,0.0,0.0] #Common_Rust\n",
    "  label_gls=[0.0,0.0,1.0,0.0] #Gray_Leaf_Spot\n",
    "  label_h=[0.0,0.0,0.0,1.0] #healthy\n",
    "\n",
    "  #path of images\n",
    "  drive_path=[r'C:\\Users\\Dell\\Desktop\\Deep Learning\\Tensorflow\\CNN\\plant_disease_detection\\data\\Blight',r'C:\\Users\\Dell\\Desktop\\Deep Learning\\Tensorflow\\CNN\\plant_disease_detection\\data\\Common_Rust',r'C:\\Users\\Dell\\Desktop\\Deep Learning\\Tensorflow\\CNN\\plant_disease_detection\\data\\Gray_Leaf_Spot',r'C:\\Users\\Dell\\Desktop\\Deep Learning\\Tensorflow\\CNN\\plant_disease_detection\\data\\Healthy']\n",
    "\n",
    "  #Collecting training data\n",
    "  \n",
    "  for img in tqdm(os.listdir(drive_path[0])): \n",
    "    path=os.path.join(drive_path[0],img) #joining path of image and plants folder\n",
    "    img=cv2.imread(path,cv2.IMREAD_COLOR) #reading the image\n",
    "    img=cv2.resize(img,(IMG_SIZE,IMG_SIZE)) #resizing the image\n",
    "    training_data.append([np.array(img),np.array(label_blight)]) #trainig data (image,label)\n",
    "  \n",
    "  \n",
    "  for img in tqdm(os.listdir(drive_path[1])):\n",
    "    path=os.path.join(drive_path[1],img)\n",
    "    img=cv2.imread(path,cv2.IMREAD_COLOR)\n",
    "    img=cv2.resize(img,(IMG_SIZE,IMG_SIZE))\n",
    "    training_data.append([np.array(img),np.array(label_cr)])\n",
    "  \n",
    "  for img in tqdm(os.listdir(drive_path[2])):\n",
    "    path=os.path.join(drive_path[2],img)\n",
    "    img=cv2.imread(path,cv2.IMREAD_COLOR)\n",
    "    img=cv2.resize(img,(IMG_SIZE,IMG_SIZE))\n",
    "    training_data.append([np.array(img),np.array(label_gls)])    \n",
    "    \n",
    "  for img in tqdm(os.listdir(drive_path[3])):\n",
    "    path=os.path.join(drive_path[3],img)\n",
    "    img=cv2.imread(path,cv2.IMREAD_COLOR)\n",
    "    img=cv2.resize(img,(IMG_SIZE,IMG_SIZE))\n",
    "    training_data.append([np.array(img),np.array(label_h)])   \n",
    "\n",
    "train_data()"
   ]
  },
  {
   "cell_type": "code",
   "execution_count": 5,
   "id": "51cfbd21",
   "metadata": {},
   "outputs": [
    {
     "name": "stderr",
     "output_type": "stream",
     "text": [
      "100%|██████████████████████████████████████████████████████████████████████████████████| 35/35 [00:03<00:00, 10.21it/s]\n",
      "100%|██████████████████████████████████████████████████████████████████████████████████| 34/34 [00:03<00:00,  8.77it/s]\n",
      "100%|██████████████████████████████████████████████████████████████████████████████████| 35/35 [00:03<00:00, 10.69it/s]\n",
      "100%|██████████████████████████████████████████████████████████████████████████████████| 37/37 [00:01<00:00, 33.77it/s]\n"
     ]
    }
   ],
   "source": [
    "\n",
    "testing_data=[]\n",
    "def test_data():\n",
    "  label_blight=[1.0,0.0,0.0,0.0]  #Blight\n",
    "  label_cr=[0.0,1.0,0.0,0.0] #Common_Rust\n",
    "  label_gls=[0.0,0.0,1.0,0.0] #Gray_Leaf_Spot\n",
    "  label_h=[0.0,0.0,0.0,1.0] #healthy\n",
    "\n",
    "  #path of images\n",
    "  drive_path=[r'C:\\Users\\Dell\\Desktop\\Deep Learning\\Tensorflow\\CNN\\plant_disease_detection\\data_test\\Blight',r'C:\\Users\\Dell\\Desktop\\Deep Learning\\Tensorflow\\CNN\\plant_disease_detection\\data_test\\Common_Rust',r'C:\\Users\\Dell\\Desktop\\Deep Learning\\Tensorflow\\CNN\\plant_disease_detection\\data_test\\Gray_Leaf_Spot',r'C:\\Users\\Dell\\Desktop\\Deep Learning\\Tensorflow\\CNN\\plant_disease_detection\\data_test\\Healthy']\n",
    "\n",
    "\n",
    "  #Collecting training data\n",
    "  #\n",
    "  for img in tqdm(os.listdir(drive_path[0])): \n",
    "    path=os.path.join(drive_path[0],img) #joining path of image and plant folder\n",
    "    img=cv2.imread(path,cv2.IMREAD_COLOR) #reading the image\n",
    "    img=cv2.resize(img,(IMG_SIZE,IMG_SIZE)) #resizing the image\n",
    "    testing_data.append([np.array(img),np.array(label_blight)]) #trainig data (image,label)\n",
    "  \n",
    "  #\n",
    "  for img in tqdm(os.listdir(drive_path[1])):\n",
    "    path=os.path.join(drive_path[1],img)\n",
    "    img=cv2.imread(path,cv2.IMREAD_COLOR)\n",
    "    img=cv2.resize(img,(IMG_SIZE,IMG_SIZE))\n",
    "    testing_data.append([np.array(img),np.array(label_cr)])\n",
    " \n",
    "  for img in tqdm(os.listdir(drive_path[2])):\n",
    "    path=os.path.join(drive_path[2],img)\n",
    "    img=cv2.imread(path,cv2.IMREAD_COLOR)\n",
    "    img=cv2.resize(img,(IMG_SIZE,IMG_SIZE))\n",
    "    testing_data.append([np.array(img),np.array(label_gls)])    \n",
    "   \n",
    "  for img in tqdm(os.listdir(drive_path[3])):\n",
    "    path=os.path.join(drive_path[3],img)\n",
    "    img=cv2.imread(path,cv2.IMREAD_COLOR)\n",
    "    img=cv2.resize(img,(IMG_SIZE,IMG_SIZE))\n",
    "    testing_data.append([np.array(img),np.array(label_h)])   \n",
    "\n",
    "test_data()"
   ]
  },
  {
   "cell_type": "code",
   "execution_count": 6,
   "id": "6ac94842",
   "metadata": {},
   "outputs": [
    {
     "name": "stdout",
     "output_type": "stream",
     "text": [
      "lenght of training data: 4047\n",
      "length of testing data: 141\n"
     ]
    }
   ],
   "source": [
    "#shuffling the data\n",
    "from random import shuffle\n",
    "shuffle(training_data)\n",
    "print(\"lenght of training data:\",len(training_data))\n",
    "shuffle(testing_data)\n",
    "print(\"length of testing data:\",len(testing_data))"
   ]
  },
  {
   "cell_type": "code",
   "execution_count": 7,
   "id": "0ea2d87c",
   "metadata": {},
   "outputs": [],
   "source": [
    "# definging the independent and dependant variable\n",
    "\n",
    "#training data\n",
    "X_train=np.array([i[0] for i in training_data])\n",
    "Y_train=np.array([i[1] for i in training_data])\n",
    "\n",
    "#testing data\n",
    "X_test=np.array([i[0] for i in testing_data])\n",
    "Y_test=np.array([i[1] for i in testing_data])"
   ]
  },
  {
   "cell_type": "code",
   "execution_count": 8,
   "id": "c2359405",
   "metadata": {},
   "outputs": [
    {
     "name": "stdout",
     "output_type": "stream",
     "text": [
      "Shape of X_train: (4047, 32, 32, 3) \n",
      "Shape of Y_train: (4047, 4)\n",
      "Shape of X_test: (141, 32, 32, 3) \n",
      "Shape of Y_test: (141, 4)\n"
     ]
    }
   ],
   "source": [
    "print(\"Shape of X_train:\",X_train.shape,\"\\nShape of Y_train:\",Y_train.shape)\n",
    "print(\"Shape of X_test:\",X_test.shape,\"\\nShape of Y_test:\",Y_test.shape)"
   ]
  },
  {
   "cell_type": "markdown",
   "id": "aa42abb8",
   "metadata": {},
   "source": [
    "**Convolution neural network model**\n",
    "\n",
    "creating a base CNN model: The input layer of shape 200*200 following with the zero-padding, Then a 2D convolution network layer and a Batch Normalization layer of momentum 0.99 and epsilon 0.001, following with the relu Activation Layer and Pooling, Finnaly a Flatten layer and a Dense layer of Softmax Activation function."
   ]
  },
  {
   "cell_type": "code",
   "execution_count": 9,
   "id": "9d4d5b12",
   "metadata": {},
   "outputs": [
    {
     "name": "stdout",
     "output_type": "stream",
     "text": [
      "Epoch 1/50\n",
      "127/127 [==============================] - 14s 69ms/step - loss: 0.6083 - accuracy: 0.7845 - val_loss: 2.4641 - val_accuracy: 0.4823\n",
      "Epoch 2/50\n",
      "127/127 [==============================] - 7s 55ms/step - loss: 0.4052 - accuracy: 0.8436 - val_loss: 1.5812 - val_accuracy: 0.5106\n",
      "Epoch 3/50\n",
      "127/127 [==============================] - 7s 57ms/step - loss: 0.3473 - accuracy: 0.8720 - val_loss: 1.5605 - val_accuracy: 0.5532\n",
      "Epoch 4/50\n",
      "127/127 [==============================] - 7s 54ms/step - loss: 0.3453 - accuracy: 0.8693 - val_loss: 2.1393 - val_accuracy: 0.4752\n",
      "Epoch 5/50\n",
      "127/127 [==============================] - 6s 51ms/step - loss: 0.2601 - accuracy: 0.8979 - val_loss: 3.1193 - val_accuracy: 0.4610\n",
      "Epoch 6/50\n",
      "127/127 [==============================] - 7s 53ms/step - loss: 0.2317 - accuracy: 0.9066 - val_loss: 1.6724 - val_accuracy: 0.5106\n",
      "Epoch 7/50\n",
      "127/127 [==============================] - 8s 60ms/step - loss: 0.2002 - accuracy: 0.9232 - val_loss: 2.0942 - val_accuracy: 0.5319\n",
      "Epoch 8/50\n",
      "127/127 [==============================] - 8s 67ms/step - loss: 0.1705 - accuracy: 0.9360 - val_loss: 1.5189 - val_accuracy: 0.5745\n",
      "Epoch 9/50\n",
      "127/127 [==============================] - 7s 57ms/step - loss: 0.1522 - accuracy: 0.9424 - val_loss: 1.9959 - val_accuracy: 0.5532\n",
      "Epoch 10/50\n",
      "127/127 [==============================] - 7s 57ms/step - loss: 0.1479 - accuracy: 0.9466 - val_loss: 3.0310 - val_accuracy: 0.5319\n",
      "Epoch 11/50\n",
      "127/127 [==============================] - 7s 56ms/step - loss: 0.1534 - accuracy: 0.9395 - val_loss: 4.9369 - val_accuracy: 0.3262\n",
      "Epoch 12/50\n",
      "127/127 [==============================] - 7s 57ms/step - loss: 0.1401 - accuracy: 0.9466 - val_loss: 3.1474 - val_accuracy: 0.5461\n",
      "Epoch 13/50\n",
      "127/127 [==============================] - 7s 55ms/step - loss: 0.1045 - accuracy: 0.9657 - val_loss: 2.7649 - val_accuracy: 0.5390\n",
      "Epoch 14/50\n",
      "127/127 [==============================] - 8s 62ms/step - loss: 0.0854 - accuracy: 0.9711 - val_loss: 2.2085 - val_accuracy: 0.5745\n",
      "Epoch 15/50\n",
      "127/127 [==============================] - 7s 53ms/step - loss: 0.0732 - accuracy: 0.9736 - val_loss: 3.1330 - val_accuracy: 0.5390\n",
      "Epoch 16/50\n",
      "127/127 [==============================] - 7s 54ms/step - loss: 0.0583 - accuracy: 0.9817 - val_loss: 2.1353 - val_accuracy: 0.5461\n",
      "Epoch 17/50\n",
      "127/127 [==============================] - 7s 56ms/step - loss: 0.0553 - accuracy: 0.9834 - val_loss: 2.5148 - val_accuracy: 0.5674\n",
      "Epoch 18/50\n",
      "127/127 [==============================] - 7s 57ms/step - loss: 0.0505 - accuracy: 0.9859 - val_loss: 3.1055 - val_accuracy: 0.5390\n",
      "Epoch 19/50\n",
      "127/127 [==============================] - 7s 54ms/step - loss: 0.0532 - accuracy: 0.9839 - val_loss: 2.6576 - val_accuracy: 0.5887\n",
      "Epoch 20/50\n",
      "127/127 [==============================] - 7s 54ms/step - loss: 0.0469 - accuracy: 0.9864 - val_loss: 2.3529 - val_accuracy: 0.5319\n",
      "Epoch 21/50\n",
      "127/127 [==============================] - 7s 54ms/step - loss: 0.0823 - accuracy: 0.9716 - val_loss: 6.0640 - val_accuracy: 0.4610\n",
      "Epoch 22/50\n",
      "127/127 [==============================] - 7s 54ms/step - loss: 0.0643 - accuracy: 0.9787 - val_loss: 2.9552 - val_accuracy: 0.5177\n",
      "Epoch 23/50\n",
      "127/127 [==============================] - 7s 55ms/step - loss: 0.0514 - accuracy: 0.9830 - val_loss: 2.9175 - val_accuracy: 0.5461\n",
      "Epoch 24/50\n",
      "127/127 [==============================] - 7s 57ms/step - loss: 0.0308 - accuracy: 0.9896 - val_loss: 3.9036 - val_accuracy: 0.4255\n",
      "Epoch 25/50\n",
      "127/127 [==============================] - 8s 63ms/step - loss: 0.0273 - accuracy: 0.9931 - val_loss: 3.8121 - val_accuracy: 0.4823\n",
      "Epoch 26/50\n",
      "127/127 [==============================] - 8s 59ms/step - loss: 0.0207 - accuracy: 0.9958 - val_loss: 2.6551 - val_accuracy: 0.5390\n",
      "Epoch 27/50\n",
      "127/127 [==============================] - 7s 57ms/step - loss: 0.0222 - accuracy: 0.9960 - val_loss: 2.9420 - val_accuracy: 0.5816\n",
      "Epoch 28/50\n",
      "127/127 [==============================] - 7s 56ms/step - loss: 0.0251 - accuracy: 0.9943 - val_loss: 2.5014 - val_accuracy: 0.6241\n",
      "Epoch 29/50\n",
      "127/127 [==============================] - 7s 55ms/step - loss: 0.0702 - accuracy: 0.9768 - val_loss: 3.5586 - val_accuracy: 0.5461\n",
      "Epoch 30/50\n",
      "127/127 [==============================] - 7s 57ms/step - loss: 0.1111 - accuracy: 0.9610 - val_loss: 5.1990 - val_accuracy: 0.4397\n",
      "Epoch 31/50\n",
      "127/127 [==============================] - 7s 58ms/step - loss: 0.0476 - accuracy: 0.9827 - val_loss: 3.3379 - val_accuracy: 0.5319\n",
      "Epoch 32/50\n",
      "127/127 [==============================] - 8s 60ms/step - loss: 0.0476 - accuracy: 0.9852 - val_loss: 5.2275 - val_accuracy: 0.3475\n",
      "Epoch 33/50\n",
      "127/127 [==============================] - 7s 53ms/step - loss: 0.0457 - accuracy: 0.9879 - val_loss: 4.1032 - val_accuracy: 0.4255\n",
      "Epoch 34/50\n",
      "127/127 [==============================] - 7s 53ms/step - loss: 0.0543 - accuracy: 0.9867 - val_loss: 2.8504 - val_accuracy: 0.5177\n",
      "Epoch 35/50\n",
      "127/127 [==============================] - 7s 55ms/step - loss: 0.0302 - accuracy: 0.9923 - val_loss: 3.0483 - val_accuracy: 0.5461\n",
      "Epoch 36/50\n",
      "127/127 [==============================] - 8s 61ms/step - loss: 0.0114 - accuracy: 0.9990 - val_loss: 2.9797 - val_accuracy: 0.5745\n",
      "Epoch 37/50\n",
      "127/127 [==============================] - 7s 56ms/step - loss: 0.0206 - accuracy: 0.9960 - val_loss: 3.0496 - val_accuracy: 0.5532\n",
      "Epoch 38/50\n",
      "127/127 [==============================] - 8s 61ms/step - loss: 0.0190 - accuracy: 0.9970 - val_loss: 2.9608 - val_accuracy: 0.5674\n",
      "Epoch 39/50\n",
      "127/127 [==============================] - 7s 53ms/step - loss: 0.0106 - accuracy: 0.9970 - val_loss: 5.7742 - val_accuracy: 0.3688\n",
      "Epoch 40/50\n",
      "127/127 [==============================] - 7s 58ms/step - loss: 0.0138 - accuracy: 0.9978 - val_loss: 3.7424 - val_accuracy: 0.5461\n",
      "Epoch 41/50\n",
      "127/127 [==============================] - 7s 59ms/step - loss: 0.0145 - accuracy: 0.9975 - val_loss: 3.8953 - val_accuracy: 0.5532\n",
      "Epoch 42/50\n",
      "127/127 [==============================] - 7s 58ms/step - loss: 0.0150 - accuracy: 0.9988 - val_loss: 3.1468 - val_accuracy: 0.5887\n",
      "Epoch 43/50\n",
      "127/127 [==============================] - 7s 55ms/step - loss: 0.0089 - accuracy: 0.9990 - val_loss: 3.1294 - val_accuracy: 0.5532\n",
      "Epoch 44/50\n",
      "127/127 [==============================] - 7s 55ms/step - loss: 0.0103 - accuracy: 0.9990 - val_loss: 3.7644 - val_accuracy: 0.5390\n",
      "Epoch 45/50\n",
      "127/127 [==============================] - 7s 55ms/step - loss: 0.0181 - accuracy: 0.9968 - val_loss: 3.5389 - val_accuracy: 0.5745\n",
      "Epoch 46/50\n",
      "127/127 [==============================] - 7s 57ms/step - loss: 0.0086 - accuracy: 0.9993 - val_loss: 3.5066 - val_accuracy: 0.5816\n",
      "Epoch 47/50\n",
      "127/127 [==============================] - 7s 54ms/step - loss: 0.0927 - accuracy: 0.9800 - val_loss: 7.5463 - val_accuracy: 0.4184\n",
      "Epoch 48/50\n",
      "127/127 [==============================] - 7s 52ms/step - loss: 0.1442 - accuracy: 0.9624 - val_loss: 5.4800 - val_accuracy: 0.4468\n",
      "Epoch 49/50\n",
      "127/127 [==============================] - 7s 54ms/step - loss: 0.0399 - accuracy: 0.9879 - val_loss: 3.7349 - val_accuracy: 0.5745\n",
      "Epoch 50/50\n",
      "127/127 [==============================] - 8s 60ms/step - loss: 0.0139 - accuracy: 0.9960 - val_loss: 3.3980 - val_accuracy: 0.5674\n"
     ]
    }
   ],
   "source": [
    "#cnn model\n",
    "\n",
    "def cnn_model():\n",
    "  model=tf.keras.Sequential([tf.keras.layers.InputLayer((IMG_SIZE,IMG_SIZE,3)),\n",
    "                             \n",
    "                             tf.keras.layers.ZeroPadding2D(padding=(3,3)),\n",
    "\n",
    "                             tf.keras.layers.Conv2D(filters=32,kernel_size=7,strides=(1,1)),\n",
    "\n",
    "                             tf.keras.layers.BatchNormalization(axis=-1, momentum=0.99, epsilon=0.001,beta_initializer='zeros', gamma_initializer='ones',moving_mean_initializer='zeros',moving_variance_initializer='ones'),\n",
    "\n",
    "                             tf.keras.layers.ReLU(),\n",
    "\n",
    "                             tf.keras.layers.MaxPooling2D(pool_size=(2, 2), strides=(2,2), padding='valid'),\n",
    "\n",
    "                             tf.keras.layers.Flatten(),\n",
    "\n",
    "                             tf.keras.layers.Dense(4,activation='softmax'),                             \n",
    "                             \n",
    "                             ])\n",
    "  return model\n",
    "\n",
    "conv_model=cnn_model() #calling the model\n",
    "conv_model.compile(optimizer='adam',\n",
    "                  loss='categorical_crossentropy',\n",
    "                  metrics=['accuracy']) #compliing the model\n",
    "\n",
    "history=conv_model.fit(x=X_train,y=Y_train,epochs=50,validation_data=(X_test,Y_test),batch_size=32) #fitting the CNN model"
   ]
  },
  {
   "cell_type": "code",
   "execution_count": 10,
   "id": "d8b85df3",
   "metadata": {},
   "outputs": [
    {
     "data": {
      "image/png": "[encoded data removed]",
      "text/plain": [
       "<Figure size 432x288 with 1 Axes>"
      ]
     },
     "metadata": {
      "needs_background": "light"
     },
     "output_type": "display_data"
    },
    {
     "data": {
      "image/png": "[encoded data removed]",
      "text/plain": [
       "<Figure size 432x288 with 1 Axes>"
      ]
     },
     "metadata": {
      "needs_background": "light"
     },
     "output_type": "display_data"
    }
   ],
   "source": [
    "# summarize history for accuracy\n",
    "plt.plot(history.history['accuracy'])\n",
    "plt.plot(history.history['val_accuracy'])\n",
    "plt.title('model accuracy')\n",
    "plt.ylabel('accuracy')\n",
    "plt.xlabel('epoch')\n",
    "plt.legend(['train', 'test'], loc='upper left')\n",
    "plt.show()\n",
    "# summarize history for loss\n",
    "plt.plot(history.history['loss'])\n",
    "plt.plot(history.history['val_loss'])\n",
    "plt.title('model loss')\n",
    "plt.ylabel('loss')\n",
    "plt.xlabel('epoch')\n",
    "plt.legend(['train', 'test'], loc='upper left')\n",
    "plt.show()"
   ]
  },
  {
   "cell_type": "code",
   "execution_count": 11,
   "id": "cbf68b4b",
   "metadata": {},
   "outputs": [
    {
     "name": "stdout",
     "output_type": "stream",
     "text": [
      "5/5 [==============================] - 0s 15ms/step - loss: 3.3980 - accuracy: 0.5674\n"
     ]
    },
    {
     "data": {
      "text/plain": [
       "[3.398001194000244, 0.567375898361206]"
      ]
     },
     "execution_count": 11,
     "metadata": {},
     "output_type": "execute_result"
    }
   ],
   "source": [
    "conv_model.save('convolution_model.h5') #Saving the CNN model\n",
    "conv_model.evaluate(X_test,Y_test) #Evaluating the CNN model"
   ]
  },
  {
   "cell_type": "code",
   "execution_count": 12,
   "id": "26e15bcd",
   "metadata": {},
   "outputs": [],
   "source": [
    "# Defining the process function for processing the imaes while testing \n",
    "def process(path):\n",
    "  img=cv2.imread(path,cv2.IMREAD_COLOR)\n",
    "  img=cv2.resize(img,(32,32))\n",
    "  x=img\n",
    "  img=np.expand_dims(img,axis=0)\n",
    "  return img,x\n",
    "def pred_list(pred):\n",
    "  pred_list=[]\n",
    "  for i in pred[0]:\n",
    "    x=format(i,'.8f')\n",
    "    pred_list.append(x)\n",
    "  return pred_list\n",
    "\n",
    "\n",
    " \n",
    "def disease(pred_list):\n",
    "  x=np.argmax(pred_list)\n",
    "  if x==0:\n",
    "    print(\"Disease: Blight\")\n",
    "  elif x==1:\n",
    "    print(\"Disease: Common_Rust \")\n",
    "  elif x==2:\n",
    "    print(\"Disease: Gray_Leaf_Spot \")\n",
    "  elif x==3:\n",
    "    print(\"Healthy\")"
   ]
  },
  {
   "cell_type": "code",
   "execution_count": 15,
   "id": "1ff6f702",
   "metadata": {},
   "outputs": [
    {
     "name": "stdout",
     "output_type": "stream",
     "text": [
      "1/1 [==============================] - 0s 150ms/step\n",
      "['0.99570364', '0.00000000', '0.00429641', '0.00000000']\n",
      "Disease: Blight\n"
     ]
    },
    {
     "data": {
      "text/plain": [
       "<matplotlib.image.AxesImage at 0x1e894f724f0>"
      ]
     },
     "execution_count": 15,
     "metadata": {},
     "output_type": "execute_result"
    },
    {
     "data": {
      "image/png": "[encoded data removed]",
      "text/plain": [
       "<Figure size 432x288 with 1 Axes>"
      ]
     },
     "metadata": {
      "needs_background": "light"
     },
     "output_type": "display_data"
    }
   ],
   "source": [
    "path=r'Corn_Blight1111.jpg'\n",
    "img,x=process(path)\n",
    "pred=conv_model.predict(img)\n",
    "pred=pred_list(pred)\n",
    "print(pred)\n",
    "disease(pred)\n",
    "plt.imshow(x)"
   ]
  },
  {
   "cell_type": "code",
   "execution_count": 16,
   "id": "944737da",
   "metadata": {},
   "outputs": [
    {
     "name": "stdout",
     "output_type": "stream",
     "text": [
      "1/1 [==============================] - 0s 27ms/step\n",
      "['0.03578641', '0.96156573', '0.00264790', '0.00000000']\n",
      "Disease: Common_Rust \n"
     ]
    },
    {
     "data": {
      "text/plain": [
       "<matplotlib.image.AxesImage at 0x1e8950143a0>"
      ]
     },
     "execution_count": 16,
     "metadata": {},
     "output_type": "execute_result"
    },
    {
     "data": {
      "image/png": "[encoded data removed]",
      "text/plain": [
       "<Figure size 432x288 with 1 Axes>"
      ]
     },
     "metadata": {
      "needs_background": "light"
     },
     "output_type": "display_data"
    }
   ],
   "source": [
    "path=r'Corn_Common_Rust1273.jpg'\n",
    "img,x=process(path)\n",
    "pred=conv_model.predict(img)\n",
    "pred=pred_list(pred)\n",
    "print(pred)\n",
    "disease(pred)\n",
    "plt.imshow(x)"
   ]
  },
  {
   "cell_type": "code",
   "execution_count": 17,
   "id": "9c67ccd5",
   "metadata": {},
   "outputs": [
    {
     "name": "stdout",
     "output_type": "stream",
     "text": [
      "1/1 [==============================] - 0s 27ms/step\n",
      "['0.00040169', '0.00006502', '0.99953330', '0.00000000']\n",
      "Disease: Gray_Leaf_Spot \n"
     ]
    },
    {
     "data": {
      "text/plain": [
       "<matplotlib.image.AxesImage at 0x1e895074cd0>"
      ]
     },
     "execution_count": 17,
     "metadata": {},
     "output_type": "execute_result"
    },
    {
     "data": {
      "image/png": "[encoded data removed]",
      "text/plain": [
       "<Figure size 432x288 with 1 Axes>"
      ]
     },
     "metadata": {
      "needs_background": "light"
     },
     "output_type": "display_data"
    }
   ],
   "source": [
    "path=r'Corn_Gray_Spot2.jpg'\n",
    "img,x=process(path)\n",
    "pred=conv_model.predict(img)\n",
    "pred=pred_list(pred)\n",
    "print(pred)\n",
    "disease(pred)\n",
    "plt.imshow(x)"
   ]
  },
  {
   "cell_type": "code",
   "execution_count": 18,
   "id": "6be83835",
   "metadata": {},
   "outputs": [
    {
     "name": "stdout",
     "output_type": "stream",
     "text": [
      "1/1 [==============================] - 0s 28ms/step\n",
      "['0.00000141', '0.00000010', '0.00000000', '0.99999845']\n",
      "Healthy\n"
     ]
    },
    {
     "data": {
      "text/plain": [
       "<matplotlib.image.AxesImage at 0x1e8950e4640>"
      ]
     },
     "execution_count": 18,
     "metadata": {},
     "output_type": "execute_result"
    },
    {
     "data": {
      "image/png": "[encoded data removed]",
      "text/plain": [
       "<Figure size 432x288 with 1 Axes>"
      ]
     },
     "metadata": {
      "needs_background": "light"
     },
     "output_type": "display_data"
    }
   ],
   "source": [
    "path=r'Corn_Health24.jpg'\n",
    "img,x=process(path)\n",
    "pred=conv_model.predict(img)\n",
    "pred=pred_list(pred)\n",
    "print(pred)\n",
    "disease(pred)\n",
    "plt.imshow(x)"
   ]
  },
  {
   "cell_type": "code",
   "execution_count": null,
   "id": "9ab2fd1d",
   "metadata": {},
   "outputs": [],
   "source": []
  }
 ],
 "metadata": {
  "kernelspec": {
   "display_name": "Python 3 (ipykernel)",
   "language": "python",
   "name": "python3"
  },
  "language_info": {
   "codemirror_mode": {
    "name": "ipython",
    "version": 3
   },
   "file_extension": ".py",
   "mimetype": "text/x-python",
   "name": "python",
   "nbconvert_exporter": "python",
   "pygments_lexer": "ipython3",
   "version": "3.9.12"
  }
 },
 "nbformat": 4,
 "nbformat_minor": 5
}
